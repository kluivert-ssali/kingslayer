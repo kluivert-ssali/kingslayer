{
 "cells": [
  {
   "cell_type": "code",
   "execution_count": 11,
   "metadata": {},
   "outputs": [
    {
     "name": "stdout",
     "output_type": "stream",
     "text": [
      "+ - - - - + - - - - +\n",
      "|\n",
      "|\n",
      "|\n",
      "|\n",
      "+ - - - - + - - - - +\n",
      "|\n",
      "|\n",
      "|\n",
      "|\n",
      "+\n"
     ]
    }
   ],
   "source": [
    "a = (\"+ - - - - + - - - - +\",\"|\",\"|\",\"|\",\"|\")\n",
    "b = (\"+ - - - - + - - - - +\",\"|\",\"|\",\"|\",\"|\",\"+\")\n",
    "\n",
    "for element in a:\n",
    "    print(element)\n",
    "\n",
    "for element in b:\n",
    "    print(element)\n"
   ]
  },
  {
   "cell_type": "code",
   "execution_count": 1,
   "metadata": {},
   "outputs": [
    {
     "name": "stdout",
     "output_type": "stream",
     "text": [
      "+ - - - - + - - - - +\n",
      "\n",
      "|         |         |\n",
      "\n",
      "\n",
      "|         |         |\n",
      "\n",
      "\n",
      "|         |         |\n",
      "\n",
      "\n",
      "|         |         |\n",
      "\n",
      "+ - - - - + - - - - +\n",
      "\n",
      "|         |         |\n",
      "\n",
      "\n",
      "|         |         |\n",
      "\n",
      "\n",
      "|         |         |\n",
      "\n",
      "\n",
      "|         |         |\n",
      "\n",
      "+ - - - - + - - - - +\n"
     ]
    }
   ],
   "source": [
    "a = '+'\n",
    "b = '- '\n",
    "k = ' '\n",
    "c = '|'\n",
    "n = str(a + k + b * 4 + a)\n",
    "x = str(k + b * 4 + a)\n",
    "v = str(c + k * 9 + c + k * 9 + c)\n",
    "print(n + x)\n",
    "for i in range(4):\n",
    "    print()\n",
    "    print(v)\n",
    "    print()\n",
    "print(n + x)\n",
    "for i in range(4):\n",
    "    print()\n",
    "    print(v)\n",
    "    print()\n",
    "print(n + x)"
   ]
  },
  {
   "cell_type": "code",
   "execution_count": null,
   "metadata": {},
   "outputs": [],
   "source": []
  }
 ],
 "metadata": {
  "kernelspec": {
   "display_name": "Python 3",
   "language": "python",
   "name": "python3"
  },
  "language_info": {
   "codemirror_mode": {
    "name": "ipython",
    "version": 3
   },
   "file_extension": ".py",
   "mimetype": "text/x-python",
   "name": "python",
   "nbconvert_exporter": "python",
   "pygments_lexer": "ipython3",
   "version": "3.7.4"
  }
 },
 "nbformat": 4,
 "nbformat_minor": 2
}
